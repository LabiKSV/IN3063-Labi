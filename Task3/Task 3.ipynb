{
 "cells": [
  {
   "cell_type": "markdown",
   "id": "d0e09c2a",
   "metadata": {},
   "source": [
    "# Task 3"
   ]
  },
  {
   "cell_type": "markdown",
   "id": "f08456d1",
   "metadata": {},
   "source": [
    "## Imports"
   ]
  },
  {
   "cell_type": "code",
   "execution_count": 1,
   "id": "8a5991b8",
   "metadata": {},
   "outputs": [
    {
     "ename": "ModuleNotFoundError",
     "evalue": "No module named 'torch'",
     "output_type": "error",
     "traceback": [
      "\u001b[1;31m---------------------------------------------------------------------------\u001b[0m",
      "\u001b[1;31mModuleNotFoundError\u001b[0m                       Traceback (most recent call last)",
      "\u001b[1;32m~\\AppData\\Local\\Temp/ipykernel_16828/3451623980.py\u001b[0m in \u001b[0;36m<module>\u001b[1;34m\u001b[0m\n\u001b[1;32m----> 1\u001b[1;33m \u001b[1;32mimport\u001b[0m \u001b[0mtorch\u001b[0m\u001b[1;33m\u001b[0m\u001b[1;33m\u001b[0m\u001b[0m\n\u001b[0m\u001b[0;32m      2\u001b[0m \u001b[1;32mimport\u001b[0m \u001b[0mtorchvision\u001b[0m\u001b[1;33m\u001b[0m\u001b[1;33m\u001b[0m\u001b[0m\n\u001b[0;32m      3\u001b[0m \u001b[1;32mimport\u001b[0m \u001b[0mtorchvision\u001b[0m\u001b[1;33m.\u001b[0m\u001b[0mtransforms\u001b[0m \u001b[1;32mas\u001b[0m \u001b[0mtransforms\u001b[0m\u001b[1;33m\u001b[0m\u001b[1;33m\u001b[0m\u001b[0m\n\u001b[0;32m      4\u001b[0m \u001b[1;32mimport\u001b[0m \u001b[0mhelpers\u001b[0m\u001b[1;33m\u001b[0m\u001b[1;33m\u001b[0m\u001b[0m\n\u001b[0;32m      5\u001b[0m \u001b[1;32mfrom\u001b[0m \u001b[0mneuralnet\u001b[0m \u001b[1;32mimport\u001b[0m \u001b[0mNeuralNetwork\u001b[0m\u001b[1;33m\u001b[0m\u001b[1;33m\u001b[0m\u001b[0m\n",
      "\u001b[1;31mModuleNotFoundError\u001b[0m: No module named 'torch'"
     ]
    }
   ],
   "source": [
    "import torch\n",
    "import torchvision\n",
    "import torchvision.transforms as transforms\n",
    "import helpers\n",
    "from neuralnet import NeuralNetwork"
   ]
  },
  {
   "cell_type": "markdown",
   "id": "ed2207b6",
   "metadata": {},
   "source": [
    "## Get MNIST training data"
   ]
  },
  {
   "cell_type": "code",
   "execution_count": null,
   "id": "ed9caeb9",
   "metadata": {},
   "outputs": [],
   "source": [
    "# Grab data from MNIST and use download = True\n",
    "transform = transforms.Compose([transforms.ToTensor()])\n",
    "mnistTraining = torchvision.datasets.MNIST(root='./data', train=True, download=True, transform=transform)\n",
    "mnistTrainingDataLoader = torch.utils.data.DataLoader(mnistTraining, batch_size=4, shuffle=True, num_workers=2)\n",
    "mnistTest = torchvision.datasets.MNIST(root='./data', train=False, download=True, transform=transform)\n",
    "mnistTestDataLoader = torch.utils.data.DataLoader(mnistTest, batch_size=4, shuffle=False, num_workers=2)\n",
    "\n",
    "# Show details\n",
    "print(f\"\\nMNIST Training set size = {len(mnistTraining)}\")\n",
    "print(f\"MNIST Test set size = {len(mnistTest)}\\n\")"
   ]
  },
  {
   "cell_type": "markdown",
   "id": "9b3febbd",
   "metadata": {},
   "source": [
    "## Feature and target arrays extraction"
   ]
  },
  {
   "cell_type": "code",
   "execution_count": null,
   "id": "9fa9e5cb",
   "metadata": {},
   "outputs": [],
   "source": [
    "# Get feature and target arrays\n",
    "f, t = helpers.xypreprocess(x=mnistTraining.data, y=mnistTraining.targets)\n",
    "X_test, y_test = helpers.xypreprocess(x=mnistTest.data, y=mnistTest.targets)\n",
    "fReduced, tReduced = helpers.reducelength(f, t, first=0, last=512)"
   ]
  },
  {
   "cell_type": "markdown",
   "id": "579103d7",
   "metadata": {},
   "source": [
    "# Neural network setup"
   ]
  },
  {
   "cell_type": "code",
   "execution_count": null,
   "id": "6ba10533",
   "metadata": {},
   "outputs": [],
   "source": [
    "# Build neural net with 2 sigmoid + 1 relu + 2 sigmoid + softmax as its layers\n",
    "# Meaning we use both fw and bw propagation\n",
    "neuralNet = NeuralNetwork(x=fReduced, y=tReduced, lr=1e-6, reg=1, batchSize=256, lrScaling=0.5)\n",
    "neuralNet.addLayer(nodes=60, activationType=\"sigmoid\")\n",
    "neuralNet.addLayer(nodes=60, activationType=\"sigmoid\")\n",
    "neuralNet.addLayer(nodes=60, activationType=\"relu\")\n",
    "neuralNet.addLayer(nodes=60, activationType=\"sigmoid\")\n",
    "neuralNet.addLayer(nodes=60, activationType=\"sigmoid\")\n",
    "neuralNet.addLayer(nodes=23, activationType=\"softmax\")"
   ]
  },
  {
   "cell_type": "markdown",
   "id": "adcc370b",
   "metadata": {},
   "source": [
    "## Fitting, loss, accuracy"
   ]
  },
  {
   "cell_type": "code",
   "execution_count": null,
   "id": "3708e7e9",
   "metadata": {},
   "outputs": [],
   "source": [
    "# Start fitting the model then plot loss and accuracy\n",
    "neuralNet.fit(epochsN=1000, calcAccuracy={\"X_test\": X_test, \"y_test\": y_test})\n",
    "neuralNet.lossPlot()\n",
    "accuracy = neuralNet.score(X_test, y_test)\n",
    "neuralNet.accuracyPlot()\n",
    "\n",
    "# Display accuracy on screen (besides already being plotted above)\n",
    "print(\"Accuracy:\")\n",
    "print(accuracy)"
   ]
  }
 ],
 "metadata": {
  "kernelspec": {
   "display_name": "Python 3 (ipykernel)",
   "language": "python",
   "name": "python3"
  },
  "language_info": {
   "codemirror_mode": {
    "name": "ipython",
    "version": 3
   },
   "file_extension": ".py",
   "mimetype": "text/x-python",
   "name": "python",
   "nbconvert_exporter": "python",
   "pygments_lexer": "ipython3",
   "version": "3.9.7"
  }
 },
 "nbformat": 4,
 "nbformat_minor": 5
}
