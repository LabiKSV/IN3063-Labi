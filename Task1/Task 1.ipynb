{
 "cells": [
  {
   "cell_type": "markdown",
   "id": "3333b829",
   "metadata": {},
   "source": [
    "# Task 1"
   ]
  },
  {
   "cell_type": "markdown",
   "id": "cc378402",
   "metadata": {},
   "source": [
    "## Import modules"
   ]
  },
  {
   "cell_type": "code",
   "execution_count": 8,
   "id": "2e729553",
   "metadata": {},
   "outputs": [],
   "source": [
    "import numpy as np\n",
    "import heuristic\n",
    "import display\n",
    "import dijkstra"
   ]
  },
  {
   "cell_type": "markdown",
   "id": "e1b474ca",
   "metadata": {},
   "source": [
    "## Game menu"
   ]
  },
  {
   "cell_type": "code",
   "execution_count": 9,
   "id": "15f8447e",
   "metadata": {},
   "outputs": [],
   "source": [
    "def gamemenu():\n",
    "    print('Grid game')\n",
    "    print('1. Game mode 1 (heuristic)')\n",
    "    print('2. Game mode 2 (heuristic)')\n",
    "    print('3. Game mode 1 (Dijkstra)')\n",
    "    print('4. Game mode 2 (Dijkstra)')\n",
    "    print('5. Comparison mode (heuristic) - run both modes on same grid')\n",
    "    print('6. Comparison mode (Dijkstra) - run both modes on same grid')\n",
    "    print('7. Ultimate comparison mode (both strategies) - run all strategies, both modes on same grid')\n",
    "    print('8. Quit game')"
   ]
  },
  {
   "cell_type": "markdown",
   "id": "07ae4f49",
   "metadata": {},
   "source": [
    "## Grid setup"
   ]
  },
  {
   "cell_type": "code",
   "execution_count": 10,
   "id": "12c3407e",
   "metadata": {},
   "outputs": [],
   "source": [
    "def creategrid():\n",
    "    # grid setup\n",
    "    global n\n",
    "    global h\n",
    "    global w\n",
    "    global grid\n",
    "    n = int(input('Enter the value of `n` (grid values random between 0 and n) = '))\n",
    "    h = int(input('Grid height = '))\n",
    "    w = int(input('Grid width = '))\n",
    "    grid = np.random.randint(0, n, size=(h, w))\n",
    "\n",
    "    # display the random grid\n",
    "    print(\"Generated grid: \")\n",
    "    print(grid)\n",
    "    print()"
   ]
  },
  {
   "cell_type": "markdown",
   "id": "71bcd67b",
   "metadata": {},
   "source": [
    "## Game loop (until user quits)"
   ]
  },
  {
   "cell_type": "code",
   "execution_count": 11,
   "id": "429b7b2c",
   "metadata": {},
   "outputs": [
    {
     "name": "stdout",
     "output_type": "stream",
     "text": [
      "Grid game\n",
      "1. Game mode 1 (heuristic)\n",
      "2. Game mode 2 (heuristic)\n",
      "3. Game mode 1 (Dijkstra)\n",
      "4. Game mode 2 (Dijkstra)\n",
      "5. Comparison mode (heuristic) - run both modes on same grid\n",
      "6. Comparison mode (Dijkstra) - run both modes on same grid\n",
      "7. Ultimate comparison mode (both strategies) - run all strategies, both modes on same grid\n",
      "8. Quit game\n"
     ]
    },
    {
     "ename": "NameError",
     "evalue": "name 'raw_input' is not defined",
     "output_type": "error",
     "traceback": [
      "\u001b[1;31m---------------------------------------------------------------------------\u001b[0m",
      "\u001b[1;31mNameError\u001b[0m                                 Traceback (most recent call last)",
      "\u001b[1;32m~\\AppData\\Local\\Temp/ipykernel_10016/2561116670.py\u001b[0m in \u001b[0;36m<module>\u001b[1;34m\u001b[0m\n\u001b[0;32m      1\u001b[0m \u001b[1;32mwhile\u001b[0m \u001b[1;32mTrue\u001b[0m\u001b[1;33m:\u001b[0m\u001b[1;33m\u001b[0m\u001b[1;33m\u001b[0m\u001b[0m\n\u001b[0;32m      2\u001b[0m     \u001b[0mgamemenu\u001b[0m\u001b[1;33m(\u001b[0m\u001b[1;33m)\u001b[0m\u001b[1;33m\u001b[0m\u001b[1;33m\u001b[0m\u001b[0m\n\u001b[1;32m----> 3\u001b[1;33m     \u001b[0muserChoice\u001b[0m \u001b[1;33m=\u001b[0m \u001b[0mraw_input\u001b[0m\u001b[1;33m(\u001b[0m\u001b[1;34m'Your selection = '\u001b[0m\u001b[1;33m)\u001b[0m\u001b[1;33m\u001b[0m\u001b[1;33m\u001b[0m\u001b[0m\n\u001b[0m\u001b[0;32m      4\u001b[0m \u001b[1;33m\u001b[0m\u001b[0m\n\u001b[0;32m      5\u001b[0m     \u001b[1;31m# Game mode 1 (heuristic)\u001b[0m\u001b[1;33m\u001b[0m\u001b[1;33m\u001b[0m\u001b[0m\n",
      "\u001b[1;31mNameError\u001b[0m: name 'raw_input' is not defined"
     ]
    }
   ],
   "source": [
    "while True:\n",
    "    gamemenu()\n",
    "    userChoice = input('Your selection = ')\n",
    "\n",
    "    # Game mode 1 (heuristic)\n",
    "    if userChoice == '1':\n",
    "        creategrid()\n",
    "        costAndPath = heuristic.heuristicpathsolver(grid, h, w, True)\n",
    "        display.displaycostandpath(grid, h, w, costAndPath, 1)\n",
    "        break\n",
    "\n",
    "    # Game mode 2 (heuristic)\n",
    "    elif userChoice == '2':\n",
    "        creategrid()\n",
    "        costAndPath = heuristic.heuristicpathsolver(grid, h, w, False)\n",
    "        display.displaycostandpath(grid, h, w, costAndPath, 2)\n",
    "        break\n",
    "\n",
    "    # Game mode 1 (Dijkstra)\n",
    "    elif userChoice == '3':\n",
    "        creategrid()\n",
    "        costAndPath = dijkstra.dijkstrapathsolver(grid, h, w, True)\n",
    "        display.displaycostandpath(grid, h, w, costAndPath, \"Dijkstra 1\")\n",
    "        break\n",
    "\n",
    "    # Game mode 2 (Dijkstra)\n",
    "    elif userChoice == '4':\n",
    "        creategrid()\n",
    "        costAndPath = dijkstra.dijkstrapathsolver(grid, h, w, False)\n",
    "        display.displaycostandpath(grid, h, w, costAndPath, \"Dijkstra 2\")\n",
    "        break\n",
    "\n",
    "    # Heuristic comparison on same grid\n",
    "    elif userChoice == '5':\n",
    "        creategrid()\n",
    "        # Mode 1 first\n",
    "        costAndPath = heuristic.heuristicpathsolver(grid, h, w, True)\n",
    "        display.displaycostandpath(grid, h, w, costAndPath, 1)\n",
    "        # Then mode 2\n",
    "        costAndPath = heuristic.heuristicpathsolver(grid, h, w, False)\n",
    "        display.displaycostandpath(grid, h, w, costAndPath, 2)\n",
    "        break\n",
    "\n",
    "    # Dijkstra comparison on same grid\n",
    "    elif userChoice == '6':\n",
    "        creategrid()\n",
    "        # Mode 1 first\n",
    "        costAndPath = dijkstra.dijkstrapathsolver(grid, h, w, True)\n",
    "        display.displaycostandpath(grid, h, w, costAndPath, \"Dijkstra 1\")\n",
    "        # Then mode 2\n",
    "        costAndPath = dijkstra.dijkstrapathsolver(grid, h, w, False)\n",
    "        display.displaycostandpath(grid, h, w, costAndPath, \"Dijkstra 2\")\n",
    "        break\n",
    "\n",
    "    elif userChoice == '7':\n",
    "        creategrid()\n",
    "        # Heuristic mode 1\n",
    "        costAndPath = heuristic.heuristicpathsolver(grid, h, w, True)\n",
    "        display.displaycostandpath(grid, h, w, costAndPath, 1)\n",
    "        # Heuristic mode 2\n",
    "        costAndPath = heuristic.heuristicpathsolver(grid, h, w, False)\n",
    "        display.displaycostandpath(grid, h, w, costAndPath, 2)\n",
    "        # Dijkstra mode 1\n",
    "        costAndPath = dijkstra.dijkstrapathsolver(grid, h, w, True)\n",
    "        display.displaycostandpath(grid, h, w, costAndPath, \"Dijkstra 1\")\n",
    "        # Dijkstra mode 2\n",
    "        costAndPath = dijkstra.dijkstrapathsolver(grid, h, w, False)\n",
    "        display.displaycostandpath(grid, h, w, costAndPath, \"Dijkstra 2\")\n",
    "        break\n",
    "\n",
    "    # User quit game\n",
    "    elif userChoice == '8':\n",
    "        print('Quit game! Done.')\n",
    "        break"
   ]
  },
  {
   "cell_type": "code",
   "execution_count": null,
   "id": "b8417d31",
   "metadata": {},
   "outputs": [],
   "source": []
  }
 ],
 "metadata": {
  "kernelspec": {
   "display_name": "Python 3 (ipykernel)",
   "language": "python",
   "name": "python3"
  },
  "language_info": {
   "codemirror_mode": {
    "name": "ipython",
    "version": 3
   },
   "file_extension": ".py",
   "mimetype": "text/x-python",
   "name": "python",
   "nbconvert_exporter": "python",
   "pygments_lexer": "ipython3",
   "version": "3.9.7"
  }
 },
 "nbformat": 4,
 "nbformat_minor": 5
}
